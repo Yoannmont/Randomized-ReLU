{
 "cells": [
  {
   "attachments": {},
   "cell_type": "markdown",
   "metadata": {},
   "source": [
    "# **Projet d'etude**"
   ]
  },
  {
   "attachments": {},
   "cell_type": "markdown",
   "metadata": {},
   "source": [
    "## **1 - Import of libraries and file preparation**"
   ]
  },
  {
   "cell_type": "code",
   "execution_count": null,
   "metadata": {},
   "outputs": [],
   "source": [
    "#Run this cell to install all needed libraries\n",
    "%pip install tensorflow\n",
    "%pip install numpy\n",
    "%pip install matplotlib\n",
    "%pip install seaborn\n",
    "%pip install memory_profiler"
   ]
  },
  {
   "cell_type": "code",
   "execution_count": null,
   "metadata": {},
   "outputs": [],
   "source": [
    "from CustomReLU import *\n",
    "from Models import *\n",
    "from Test_functions import *\n",
    "from Config import *\n",
    "import os\n",
    "\n",
    "\n",
    "os.environ[\"CUDA_DEVICE_ORDER\"] = \"PCI_BUS_ID\"\n",
    "os.environ[\"CUDA_VISIBLE_DEVICES\"] = \"0\"\n",
    "\n",
    "BATCH_SIZE = 40\n",
    "MNIST = tf.keras.datasets.mnist\n",
    "CIFAR10 = tf.keras.datasets.cifar10\n",
    "MLP_PATH_MNIST = 'MNIST/MLP'\n",
    "CNN_PATH_MNIST = 'MNIST/CNN'\n",
    "CNN_PATH_CIFAR10 = 'CIFAR10/CNN'"
   ]
  },
  {
   "attachments": {},
   "cell_type": "markdown",
   "metadata": {},
   "source": [
    "## **2 - Folders and datasets setup**"
   ]
  },
  {
   "attachments": {},
   "cell_type": "markdown",
   "metadata": {},
   "source": [
    "### 2.1 - Folders setup"
   ]
  },
  {
   "attachments": {},
   "cell_type": "markdown",
   "metadata": {},
   "source": [
    "Files are stored in CIFAR10 and MNIST folders."
   ]
  },
  {
   "cell_type": "code",
   "execution_count": null,
   "metadata": {},
   "outputs": [],
   "source": [
    "for dataset_name in [\"MNIST\", \"CIFAR10\"]:\n",
    "    if not os.path.exists(dataset_name):\n",
    "        os.mkdir(dataset_name)\n",
    "\n",
    "for _path in [MLP_PATH_MNIST, CNN_PATH_CIFAR10, CNN_PATH_MNIST]:\n",
    "    if not os.path.exists(_path):\n",
    "        os.mkdir(_path)\n",
    "    if not os.path.exists(_path + \"/images\"):\n",
    "        os.mkdir(_path + \"/images\")\n",
    "    if not os.path.exists(_path + \"/models\"):\n",
    "        os.mkdir(_path + \"/models\")\n",
    "    for elem in [\"/varying_gamma\", \"/varying_beta\", \"/varying_clipping\", \"/varying_beta_gamma\", \"/varying_beta_clipping\", \"/varying_gamma_clipping\"]:\n",
    "        if not os.path.exists(_path + \"/images\" + elem):\n",
    "            os.mkdir(_path + \"/images\" + elem)"
   ]
  },
  {
   "attachments": {},
   "cell_type": "markdown",
   "metadata": {},
   "source": [
    "### 2.2 - Dataset setup"
   ]
  },
  {
   "cell_type": "code",
   "execution_count": null,
   "metadata": {},
   "outputs": [],
   "source": [
    "# MNIST\n",
    "(X_Train_MNIST, Y_Train_MNIST), (X_Test_MNIST, Y_Test_MNIST) = MNIST.load_data()\n",
    "X_Train_MNIST, X_Test_MNIST = X_Train_MNIST.astype(\n",
    "    'float32') / 255.0, X_Test_MNIST.astype('float32') / 255.0\n",
    "X_Train_MNIST, X_Test_MNIST = np.expand_dims(\n",
    "    X_Train_MNIST, axis=3), np.expand_dims(X_Test_MNIST, axis=3)\n",
    "Y_Train_MNIST, Y_Test_MNIST = tf.keras.utils.to_categorical(\n",
    "    Y_Train_MNIST, num_classes=10), tf.keras.utils.to_categorical(Y_Test_MNIST, num_classes=10)\n",
    "Train_DS_MNIST = tf.data.Dataset.from_tensor_slices(\n",
    "    (X_Train_MNIST, Y_Train_MNIST)).shuffle(10000).batch(BATCH_SIZE)\n",
    "Test_DS_MNIST = tf.data.Dataset.from_tensor_slices(\n",
    "    (X_Test_MNIST, Y_Test_MNIST)).batch(BATCH_SIZE)\n",
    "\n",
    "# CIFAR10\n",
    "(X_Train_CIFAR, Y_Train_CIFAR), (X_Test_CIFAR, Y_Test_CIFAR) = CIFAR10.load_data()\n",
    "X_Train_CIFAR, X_Test_CIFAR = X_Train_CIFAR.astype(\n",
    "    'float32') / 255.0, X_Test_CIFAR.astype('float32') / 255.0\n",
    "Y_Train_CIFAR, Y_Test_CIFAR = tf.keras.utils.to_categorical(\n",
    "    Y_Train_CIFAR, num_classes=10), tf.keras.utils.to_categorical(Y_Test_CIFAR, num_classes=10)\n",
    "Train_DS_CIFAR = tf.data.Dataset.from_tensor_slices(\n",
    "    (X_Train_CIFAR, Y_Train_CIFAR)).shuffle(10000).batch(BATCH_SIZE)\n",
    "Test_DS_CIFAR = tf.data.Dataset.from_tensor_slices(\n",
    "    (X_Test_CIFAR, Y_Test_CIFAR)).batch(BATCH_SIZE)"
   ]
  },
  {
   "attachments": {},
   "cell_type": "markdown",
   "metadata": {},
   "source": [
    "## **3 - Models setup**"
   ]
  },
  {
   "attachments": {},
   "cell_type": "markdown",
   "metadata": {},
   "source": [
    "### 3.1 - Models configuration"
   ]
  },
  {
   "attachments": {},
   "cell_type": "markdown",
   "metadata": {},
   "source": [
    "We create a configuration dictionary for a model to have the initialization information of the model such as its input_shape, the list of layers, the dataset used, the number of epochs and the folder to save the image and the weights in .h5 format.\n",
    "\n",
    "All dictionaries are stored in ```Model_config_list```."
   ]
  },
  {
   "cell_type": "code",
   "execution_count": null,
   "metadata": {},
   "outputs": [],
   "source": [
    "Model_config_list = []\n",
    "\n",
    "MNIST_model_mlp_config = {\n",
    "    \"name\": \"MNIST_model_MLP\",\n",
    "    \"dataset\": 'MNIST',\n",
    "    \"layer_list\": [Flatten(), Dense(32, name='layer0'), ReLU(), Dense(16, name='layer1'), ReLU(), Dense(16, name='layer2'), ReLU(), Dense(10, name='layer3')],\n",
    "    \"input_shape\": (None, 28, 28, 1),\n",
    "    \"epochs\": 3,\n",
    "    \"path\": MLP_PATH_MNIST}\n",
    "Model_config_list.append(MNIST_model_mlp_config)\n",
    "\n",
    "MNIST_model_cnn_config = {\n",
    "    \"name\": \"MNIST_model_CNN\",\n",
    "    \"dataset\": 'MNIST',\n",
    "    \"layer_list\": [Conv2D(32, kernel_size=(3, 3), padding=\"same\", name='layer0'), ReLU(), MaxPooling2D(), Conv2D(32, kernel_size=(3, 3), padding=\"same\", name='layer1'), ReLU(), MaxPooling2D(), Flatten(), Dense(10, name='layer2')],\n",
    "    \"input_shape\": (None, 28, 28, 1),\n",
    "    \"epochs\": 3,\n",
    "    \"path\": CNN_PATH_MNIST}\n",
    "Model_config_list.append(MNIST_model_cnn_config)\n",
    "\n",
    "CIFAR10_model_cnn_config = {\n",
    "    \"name\": \"CIFAR10_model_CNN\",\n",
    "    \"dataset\": 'CIFAR10',\n",
    "    \"layer_list\": [Conv2D(32, kernel_size=(3, 3), padding=\"same\", name='layer0'), ReLU(), MaxPooling2D(), Conv2D(64, kernel_size=(3, 3), padding=\"same\", name='layer1'), ReLU(), MaxPooling2D(), Conv2D(128, kernel_size=(3, 3), padding=\"same\", name='layer2'), ReLU(), MaxPooling2D(), Flatten(), Dense(512, name='layer3'), Dense(10, name='layer4')],\n",
    "    \"input_shape\": (None, 32, 32, 3),\n",
    "    \"epochs\": 50,\n",
    "    \"path\": CNN_PATH_CIFAR10}\n",
    "Model_config_list.append(CIFAR10_model_cnn_config)"
   ]
  },
  {
   "attachments": {},
   "cell_type": "markdown",
   "metadata": {},
   "source": [
    "### 3.2 - Models training"
   ]
  },
  {
   "attachments": {},
   "cell_type": "markdown",
   "metadata": {},
   "source": [
    "Using configuration dictionnaries, models are trained or loaded from file.  \n",
    "\n",
    "All trained models are stored in ```Trained_model_list```."
   ]
  },
  {
   "cell_type": "code",
   "execution_count": null,
   "metadata": {},
   "outputs": [],
   "source": [
    "Trained_model_list = []\n",
    "\n",
    "for model_config in Model_config_list:\n",
    "    training_model = Training_Model(name=model_config[\"name\"], layers_list=model_config[\"layer_list\"],\n",
    "                                    input_shape=model_config[\"input_shape\"], path=model_config[\"path\"], dataset_name=model_config[\"dataset\"])\n",
    "    print(\"Training model : {}\".format(training_model.name))\n",
    "    training_model.compile(\n",
    "        loss=tf.keras.losses.CategoricalCrossentropy(),\n",
    "        optimizer=tf.keras.optimizers.RMSprop(),\n",
    "        metrics=[\"accuracy\"],\n",
    "    )\n",
    "    if os.path.isfile(model_config[\"path\"] + \"/models/model_0.h5\"):\n",
    "        training_model.build(input_shape=model_config[\"input_shape\"])\n",
    "        training_model.load_weights(\n",
    "            model_config[\"path\"] + \"/models/model_0.h5\")\n",
    "        print(\"\\t Model weights loaded from file\")\n",
    "    else:\n",
    "        training_model.build(input_shape=model_config[\"input_shape\"])\n",
    "        if model_config['dataset'] == 'MNIST':\n",
    "            training_model.fit(Train_DS_MNIST, epochs=model_config[\"epochs\"])\n",
    "        else:\n",
    "            training_model.fit(Train_DS_CIFAR, epochs=model_config[\"epochs\"])\n",
    "        training_model.save_weights(\n",
    "            model_config[\"path\"] + \"/models/model_0.h5\")\n",
    "    Trained_model_list.append(training_model)"
   ]
  },
  {
   "cell_type": "code",
   "execution_count": null,
   "metadata": {},
   "outputs": [],
   "source": [
    "del X_Train_MNIST, X_Train_CIFAR, Y_Train_MNIST, Y_Train_CIFAR\n",
    "del Train_DS_MNIST, Train_DS_CIFAR"
   ]
  },
  {
   "attachments": {},
   "cell_type": "markdown",
   "metadata": {},
   "source": [
    "### 3.3 - Testing models creation"
   ]
  },
  {
   "attachments": {},
   "cell_type": "markdown",
   "metadata": {},
   "source": [
    "Once trained, models are transformed using ```Testing_Model``` class to convert ReLUs into CustomReLUs.\n",
    "\n",
    "All testing models are stored in ```Testing_list```."
   ]
  },
  {
   "cell_type": "code",
   "execution_count": null,
   "metadata": {},
   "outputs": [],
   "source": [
    "Testing_list = []\n",
    "\n",
    "for model in Trained_model_list:\n",
    "    for _config in Config_model_list:\n",
    "        if _config[\"name\"] == model.name:\n",
    "            config = _config\n",
    "    testing_model = Testing_Model(config=config, training_model=model)\n",
    "    Testing_list.append(testing_model)"
   ]
  },
  {
   "attachments": {},
   "cell_type": "markdown",
   "metadata": {},
   "source": [
    "## **4 - Model testing varying one parameter**"
   ]
  },
  {
   "attachments": {},
   "cell_type": "markdown",
   "metadata": {},
   "source": [
    "The models are tested by varying one of the parameters according to the min, max and step variables defined in `Config.py`."
   ]
  },
  {
   "attachments": {},
   "cell_type": "markdown",
   "metadata": {},
   "source": [
    "### 4.1 - Beta testing"
   ]
  },
  {
   "cell_type": "code",
   "execution_count": null,
   "metadata": {},
   "outputs": [],
   "source": [
    "for model in Testing_list:\n",
    "    print(\"Testing parameter with model : {}\".format(model.name))\n",
    "    if model.dataset_name == 'MNIST':\n",
    "        fig = plot_varying_parameter_accuracy(model, \"beta\", model.config[\"beta_config\"][\"min\"], model.config[\n",
    "                                              \"beta_config\"][\"max\"], model.config[\"beta_config\"][\"step\"], dataset=Test_DS_MNIST, plot_loss=True)\n",
    "    else:\n",
    "        fig = plot_varying_parameter_accuracy(model, \"beta\", model.config[\"beta_config\"][\"min\"], model.config[\n",
    "                                              \"beta_config\"][\"max\"], model.config[\"beta_config\"][\"step\"], dataset=Test_DS_CIFAR, plot_loss=True)\n",
    "    fig.savefig(model.path + \"/images/varying_beta/test_{}.jpg\".format(model.name),\n",
    "                dpi=400, bbox_inches='tight')\n",
    "    fig.clf()\n",
    "    print(\"\\n\")"
   ]
  },
  {
   "attachments": {},
   "cell_type": "markdown",
   "metadata": {},
   "source": [
    "### 4.2 - Gamma testing"
   ]
  },
  {
   "cell_type": "code",
   "execution_count": null,
   "metadata": {},
   "outputs": [],
   "source": [
    "for model in Testing_list:\n",
    "    print(\"Testing parameter with model : {}\".format(model.name))\n",
    "    if model.dataset_name == 'MNIST':\n",
    "        fig = plot_varying_parameter_accuracy(\n",
    "            model, \"gamma\", model.config[\"gamma_config\"][\"min\"], model.config[\"gamma_config\"][\"max\"], model.config[\"gamma_config\"][\"step\"], dataset=Test_DS_MNIST)\n",
    "    else:\n",
    "        fig = plot_varying_parameter_accuracy(\n",
    "            model, \"gamma\", model.config[\"gamma_config\"][\"min\"], model.config[\"gamma_config\"][\"max\"], model.config[\"gamma_config\"][\"step\"], dataset=Test_DS_CIFAR)\n",
    "    fig.savefig(model.path + \"/images/varying_gamma/test_{}.jpg\".format(model.name),\n",
    "                dpi=400, bbox_inches='tight')\n",
    "    fig.clf()\n",
    "    print(\"\\n\")"
   ]
  },
  {
   "attachments": {},
   "cell_type": "markdown",
   "metadata": {},
   "source": [
    "### 4.3 - Clipping testing"
   ]
  },
  {
   "cell_type": "code",
   "execution_count": null,
   "metadata": {},
   "outputs": [],
   "source": [
    "for model in Testing_list:\n",
    "    print(\"Testing parameter with model : {}\".format(model.name))\n",
    "    if model.dataset_name == 'MNIST':\n",
    "        fig = plot_varying_parameter_accuracy(\n",
    "            model, \"clipping\", model.config[\"clipping_config\"][\"min\"], model.config[\"clipping_config\"][\"max\"], model.config[\"clipping_config\"][\"step\"], dataset=Test_DS_MNIST)\n",
    "    else:\n",
    "        fig = plot_varying_parameter_accuracy(\n",
    "            model, \"clipping\", model.config[\"clipping_config\"][\"min\"], model.config[\"clipping_config\"][\"max\"], model.config[\"clipping_config\"][\"step\"], dataset=Test_DS_CIFAR)\n",
    "    fig.savefig(model.path + \"/images/varying_clipping/test_{}.jpg\".format(model.name),\n",
    "                dpi=400, bbox_inches='tight')\n",
    "    fig.clf()\n",
    "    print(\"\\n\")"
   ]
  },
  {
   "attachments": {},
   "cell_type": "markdown",
   "metadata": {},
   "source": [
    "### 4.4 - Clipping percentage testing"
   ]
  },
  {
   "cell_type": "code",
   "execution_count": null,
   "metadata": {},
   "outputs": [],
   "source": [
    "for model in Testing_list:\n",
    "    print(\"Testing parameter with model : {}\".format(model.name))\n",
    "    if model.dataset_name == 'MNIST':\n",
    "        fig = plot_varying_clipping_percentage_accuracy(model, model.config[\"clipping_percentage_config\"][\"min\"], model.config[\n",
    "                                                        \"clipping_percentage_config\"][\"max\"], model.config[\"clipping_percentage_config\"][\"step\"], dataset=Test_DS_MNIST, inputs=X_Test_MNIST)\n",
    "    else:\n",
    "        fig = plot_varying_clipping_percentage_accuracy(model, model.config[\"clipping_percentage_config\"][\"min\"], model.config[\n",
    "                                                        \"clipping_percentage_config\"][\"max\"], model.config[\"clipping_percentage_config\"][\"step\"], dataset=Test_DS_CIFAR, inputs=X_Test_CIFAR)\n",
    "    fig.savefig(model.path + \"/images/varying_clipping/test_percentage_{}.jpg\".format(\n",
    "        model.name), dpi=400, bbox_inches='tight')\n",
    "    fig.clf()\n",
    "    print(\"\\n\")"
   ]
  },
  {
   "attachments": {},
   "cell_type": "markdown",
   "metadata": {},
   "source": [
    "## **5 - Model testing varying two parameters** "
   ]
  },
  {
   "attachments": {},
   "cell_type": "markdown",
   "metadata": {},
   "source": [
    "The models are tested by varying two of the parameters according to the min, max and step variables defined in `Config.py`."
   ]
  },
  {
   "attachments": {},
   "cell_type": "markdown",
   "metadata": {},
   "source": [
    "### 5.1 - Beta - gamma testing"
   ]
  },
  {
   "cell_type": "code",
   "execution_count": null,
   "metadata": {},
   "outputs": [],
   "source": [
    "for model in Testing_list:\n",
    "    print(\"Testing parameters with model : {}\".format(model.name))\n",
    "    parameters_list_x = ['beta', model.config[\"beta_gamma_config\"][\"beta_min\"],\n",
    "                         model.config[\"beta_gamma_config\"][\"beta_max\"], model.config[\"beta_gamma_config\"][\"beta_step\"]]\n",
    "    parameters_list_y = ['gamma', model.config[\"beta_gamma_config\"][\"gamma_min\"],\n",
    "                         model.config[\"beta_gamma_config\"][\"gamma_max\"], model.config[\"beta_gamma_config\"][\"gamma_step\"]]\n",
    "    if model.dataset_name == 'MNIST':\n",
    "        fig = plot_heatmap_varying_parameters_accuracy(\n",
    "            model, parameters_list_x, parameters_list_y, dataset=Test_DS_MNIST, inputs=X_Test_MNIST)\n",
    "    else:\n",
    "        fig = plot_heatmap_varying_parameters_accuracy(\n",
    "            model, parameters_list_x, parameters_list_y, dataset=Test_DS_CIFAR, inputs=X_Test_CIFAR)\n",
    "    fig.savefig(model.path + \"/images/varying_beta_gamma/test_{}.jpg\".format(\n",
    "        model.name), dpi=400, bbox_inches='tight')\n",
    "    fig.clf()\n",
    "    print(\"\\n\")"
   ]
  },
  {
   "attachments": {},
   "cell_type": "markdown",
   "metadata": {},
   "source": [
    "### 5.2 - Gamma - Clipping testing"
   ]
  },
  {
   "cell_type": "code",
   "execution_count": null,
   "metadata": {},
   "outputs": [],
   "source": [
    "for model in Testing_list:\n",
    "    print(\"Testing parameters with model : {}\".format(model.name))\n",
    "    parameters_list_x = ['gamma', model.config[\"gamma_clipping_config\"][\"gamma_min\"],\n",
    "                         model.config[\"gamma_clipping_config\"][\"gamma_max\"], model.config[\"gamma_clipping_config\"][\"gamma_step\"]]\n",
    "    parameters_list_y = ['clipping', model.config[\"gamma_clipping_config\"][\"clipping_min\"],\n",
    "                         model.config[\"gamma_clipping_config\"][\"clipping_max\"], model.config[\"gamma_clipping_config\"][\"clipping_step\"]]\n",
    "    if model.dataset_name == 'MNIST':\n",
    "        fig = plot_heatmap_varying_parameters_accuracy(\n",
    "            model, parameters_list_x, parameters_list_y, dataset=Test_DS_MNIST, inputs=X_Test_MNIST)\n",
    "    else:\n",
    "        fig = plot_heatmap_varying_parameters_accuracy(\n",
    "            model, parameters_list_x, parameters_list_y, dataset=Test_DS_CIFAR, inputs=X_Test_CIFAR)\n",
    "    fig.savefig(model.path + \"/images/varying_gamma_clipping/test_{}.jpg\".format(\n",
    "        model.name), dpi=400, bbox_inches='tight')\n",
    "    fig.clf()\n",
    "    print(\"\\n\")"
   ]
  },
  {
   "attachments": {},
   "cell_type": "markdown",
   "metadata": {},
   "source": [
    "### 5.3 - Beta - Clipping testing"
   ]
  },
  {
   "cell_type": "code",
   "execution_count": null,
   "metadata": {},
   "outputs": [],
   "source": [
    "for model in Testing_list:\n",
    "    print(\"Testing parameters with model : {}\".format(model.name))\n",
    "    parameters_list_x = ['beta', model.config[\"beta_clipping_config\"][\"beta_min\"],\n",
    "                         model.config[\"beta_clipping_config\"][\"beta_max\"], model.config[\"beta_clipping_config\"][\"beta_step\"]]\n",
    "    parameters_list_y = ['clipping', model.config[\"beta_clipping_config\"][\"clipping_min\"],\n",
    "                         model.config[\"beta_clipping_config\"][\"clipping_max\"], model.config[\"beta_clipping_config\"][\"clipping_step\"]]\n",
    "    if model.dataset_name == 'MNIST':\n",
    "        fig = plot_heatmap_varying_parameters_accuracy(\n",
    "            model, parameters_list_x, parameters_list_y, dataset=Test_DS_MNIST, inputs=X_Test_MNIST)\n",
    "    else:\n",
    "        fig = plot_heatmap_varying_parameters_accuracy(\n",
    "            model, parameters_list_x, parameters_list_y, dataset=Test_DS_CIFAR, inputs=X_Test_CIFAR)\n",
    "    fig.savefig(model.path + \"/images/varying_beta_clipping/test_{}.jpg\".format(\n",
    "        model.name), dpi=400, bbox_inches='tight')\n",
    "    fig.clf()\n",
    "    print(\"\\n\")"
   ]
  },
  {
   "attachments": {},
   "cell_type": "markdown",
   "metadata": {},
   "source": [
    "### 5.4 - Beta - Clipping percentage testing"
   ]
  },
  {
   "cell_type": "code",
   "execution_count": null,
   "metadata": {},
   "outputs": [],
   "source": [
    "for model in Testing_list:\n",
    "    print(\"Testing parameters with model : {}\".format(model.name))\n",
    "    parameters_list_x = ['beta', model.config[\"beta_clipping_percentage_config\"][\"beta_min\"],\n",
    "                         model.config[\"beta_clipping_percentage_config\"][\"beta_max\"], model.config[\"beta_clipping_percentage_config\"][\"beta_step\"]]\n",
    "    parameters_list_y = ['clipping_percentage', model.config[\"beta_clipping_percentage_config\"][\"clipping_percentage_min\"],\n",
    "                         model.config[\"beta_clipping_percentage_config\"][\"clipping_percentage_max\"], model.config[\"beta_clipping_percentage_config\"][\"clipping_percentage_step\"]]\n",
    "    if model.dataset_name == 'MNIST':\n",
    "        fig = plot_heatmap_varying_parameters_accuracy(\n",
    "            model, parameters_list_x, parameters_list_y, dataset=Test_DS_MNIST, inputs=X_Test_MNIST)\n",
    "    else:\n",
    "        fig = plot_heatmap_varying_parameters_accuracy(\n",
    "            model, parameters_list_x, parameters_list_y, dataset=Test_DS_CIFAR, inputs=X_Test_CIFAR)\n",
    "    fig.savefig(model.path + \"/images/varying_beta_clipping/test_percentage_{}.jpg\".format(\n",
    "        model.name), dpi=400, bbox_inches='tight')\n",
    "    fig.clf()\n",
    "    print(\"\\n\")"
   ]
  },
  {
   "attachments": {},
   "cell_type": "markdown",
   "metadata": {},
   "source": [
    "### 5.5 - Gamma - Clipping percentage testing"
   ]
  },
  {
   "cell_type": "code",
   "execution_count": null,
   "metadata": {},
   "outputs": [],
   "source": [
    "for model in Testing_list:\n",
    "    print(\"Testing parameters with model : {}\".format(model.name))\n",
    "    parameters_list_x = ['gamma', model.config[\"gamma_clipping_percentage_config\"][\"gamma_min\"],\n",
    "                         model.config[\"gamma_clipping_percentage_config\"][\"gamma_max\"], model.config[\"gamma_clipping_percentage_config\"][\"gamma_step\"]]\n",
    "    parameters_list_y = ['clipping_percentage', model.config[\"gamma_clipping_percentage_config\"][\"clipping_percentage_min\"],\n",
    "                         model.config[\"gamma_clipping_percentage_config\"][\"clipping_percentage_max\"], model.config[\"gamma_clipping_percentage_config\"][\"clipping_percentage_step\"]]\n",
    "    if model.dataset_name == 'MNIST':\n",
    "        fig = plot_heatmap_varying_parameters_accuracy(\n",
    "            model, parameters_list_x, parameters_list_y, dataset=Test_DS_MNIST, inputs=X_Test_MNIST)\n",
    "    else:\n",
    "        fig = plot_heatmap_varying_parameters_accuracy(\n",
    "            model, parameters_list_x, parameters_list_y, dataset=Test_DS_CIFAR, inputs=X_Test_CIFAR)\n",
    "    fig.savefig(model.path + \"/images/varying_gamma_clipping/test_percentage_{}.jpg\".format(\n",
    "        model.name), dpi=400, bbox_inches='tight')\n",
    "    fig.clf()\n",
    "    print(\"\\n\")"
   ]
  },
  {
   "attachments": {},
   "cell_type": "markdown",
   "metadata": {},
   "source": [
    "## **6 - Computing optimal ranges**"
   ]
  },
  {
   "attachments": {},
   "cell_type": "markdown",
   "metadata": {},
   "source": [
    "Optimal ranges are computed to get maximum accuracy using normal distribution."
   ]
  },
  {
   "cell_type": "code",
   "execution_count": null,
   "metadata": {},
   "outputs": [],
   "source": [
    "for model in Testing_list:\n",
    "    if model.dataset_name == 'MNIST':\n",
    "        beta_range = compute_range(\n",
    "            model, 'beta', 0.02, 5, 2, 2, dataset=Test_DS_MNIST)\n",
    "        gamma_range = compute_range(\n",
    "            model, 'gamma', 0.02, 5, 2, 2, dataset=Test_DS_MNIST)\n",
    "        clipping_percentage_range = compute_range(\n",
    "            model, 'clipping_percentage', 0.02, 5, 1, 1, dataset=Test_DS_MNIST, inputs=X_Test_MNIST)\n",
    "    else:\n",
    "        beta_range = compute_range(\n",
    "            model, 'beta', 0.02, 5, 2, 2, dataset=Test_DS_CIFAR)\n",
    "        gamma_range = compute_range(\n",
    "            model, 'gamma', 0.02, 5, 2, 2, dataset=Test_DS_CIFAR)\n",
    "        clipping_percentage_range = compute_range(\n",
    "            model, 'clipping_percentage', 0.02, 5, 1, 1, dataset=Test_DS_CIFAR, inputs=X_Test_CIFAR)\n",
    "\n",
    "    model.config[\"beta_range\"] = beta_range\n",
    "    model.config[\"gamma_range\"] = gamma_range\n",
    "    model.config[\"clipping_percentage_range\"] = clipping_percentage_range"
   ]
  },
  {
   "attachments": {},
   "cell_type": "markdown",
   "metadata": {},
   "source": [
    "## **7 - Testing with all random parameters**"
   ]
  },
  {
   "attachments": {},
   "cell_type": "markdown",
   "metadata": {},
   "source": [
    "Random models are generated using parameters in computed optimal ranges."
   ]
  },
  {
   "attachments": {},
   "cell_type": "markdown",
   "metadata": {},
   "source": [
    "### 7.1 - Testing models with all random parameters every inference"
   ]
  },
  {
   "cell_type": "code",
   "execution_count": null,
   "metadata": {},
   "outputs": [],
   "source": [
    "for model in Testing_list:\n",
    "    if model.dataset_name == 'MNIST':\n",
    "        fig = update_model_c_relus_changing_every_inference(model, model.config[\"beta_range\"], model.config[\"gamma_range\"],  model.config[\n",
    "                                                            \"clipping_percentage_range\"], inputs=X_Test_MNIST, outputs=Y_Test_MNIST, nb_test=20, dataset=Test_DS_MNIST)\n",
    "    else:\n",
    "        fig = update_model_c_relus_changing_every_inference(model, model.config[\"beta_range\"], model.config[\"gamma_range\"],  model.config[\n",
    "                                                            \"clipping_percentage_range\"], inputs=X_Test_CIFAR, outputs=Y_Test_CIFAR, nb_test=20, dataset=Test_DS_CIFAR)\n",
    "    fig.savefig(\n",
    "        model.path + \"/images/test_random_parameters_every_inference_{}.jpg\".format(model.name), dpi=400)\n",
    "    fig.clf()"
   ]
  },
  {
   "attachments": {},
   "cell_type": "markdown",
   "metadata": {},
   "source": [
    "### 7.2 - Testing varying models with all random parameters"
   ]
  },
  {
   "cell_type": "code",
   "execution_count": null,
   "metadata": {},
   "outputs": [],
   "source": [
    "for model in Testing_list:\n",
    "    Testing_list_copies = [model]\n",
    "\n",
    "    for i in range(10):\n",
    "        model_copy = model.clone()\n",
    "        if model.dataset_name == 'MNIST':\n",
    "            beta, gamma, clipping_percentage = update_model_c_relus_with_ranges(\n",
    "                model_copy, model.config[\"beta_range\"], model.config[\"gamma_range\"], model.config[\"clipping_percentage_range\"], inputs=X_Test_MNIST)\n",
    "        else:\n",
    "            beta, gamma, clipping_percentage = update_model_c_relus_with_ranges(\n",
    "                model_copy, model.config[\"beta_range\"], model.config[\"gamma_range\"], model.config[\"clipping_percentage_range\"], inputs=X_Test_CIFAR)\n",
    "        print(\"Testing model accuracy with beta = {}, gamma = {}, clipping percentage = {}\".format(\n",
    "            beta, gamma, clipping_percentage))\n",
    "        Testing_list_copies.append(model_copy)\n",
    "\n",
    "    for i in range(model.activation_nb):\n",
    "        if model.dataset_name == 'MNIST':\n",
    "            fig = plot_varying_model_HW_dist(\n",
    "                Testing_list_copies, activation_index=i, diff=True, inputs=X_Test_MNIST)\n",
    "        else:\n",
    "            fig = plot_varying_model_HW_dist(\n",
    "                Testing_list_copies, activation_index=i, diff=True, inputs=X_Test_CIFAR)\n",
    "        fig.savefig(\n",
    "            model.path + \"/images/test_random_parameters_hist_{}_activation_layer_{}.jpg\".format(model.name, i), dpi=400)\n",
    "        fig.clf()"
   ]
  },
  {
   "cell_type": "code",
   "execution_count": null,
   "metadata": {},
   "outputs": [],
   "source": [
    "test_model_c_relus_with_ranges(Testing_list[2], [0.75, 1.37], [-0.05,0.03], [0,0.8], Test_DS_CIFAR, X_Test_CIFAR)"
   ]
  }
 ],
 "metadata": {
  "kernelspec": {
   "display_name": "base",
   "language": "python",
   "name": "python3"
  },
  "language_info": {
   "codemirror_mode": {
    "name": "ipython",
    "version": 3
   },
   "file_extension": ".py",
   "mimetype": "text/x-python",
   "name": "python",
   "nbconvert_exporter": "python",
   "pygments_lexer": "ipython3",
   "version": "3.11.7"
  },
  "orig_nbformat": 4
 },
 "nbformat": 4,
 "nbformat_minor": 2
}
